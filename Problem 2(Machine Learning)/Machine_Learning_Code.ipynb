{
 "cells": [
  {
   "cell_type": "markdown",
   "metadata": {},
   "source": [
    "CODE TO RESTRUCTURE THE DATA"
   ]
  },
  {
   "cell_type": "code",
   "execution_count": 20,
   "metadata": {},
   "outputs": [],
   "source": [
    "import pandas as pd\n",
    "\n",
    "# Load the data from data.csv\n",
    "data = pd.read_csv(\"data.csv\")\n",
    "\n",
    "# Drop the first 52 rows (including the header and explanation rows)\n",
    "data = data.iloc[51:, :]\n",
    "\n",
    "# Reset the index\n",
    "data.reset_index(drop=True, inplace=True)\n",
    "\n",
    "# Rename the columns based on the label in the 53rd row\n",
    "data.columns = data.iloc[0]\n",
    "\n",
    "# Drop the first row (label row)\n",
    "data = data.drop(0)\n",
    "\n",
    "# Reset the index again\n",
    "data.reset_index(drop=True, inplace=True)\n",
    "\n",
    "# Map the categories of planets to encoded classes\n",
    "data['planet_class'] = data['koi_disposition'].map({'FALSE POSITIVE': 0, 'CANDIDATE': 1, 'CONFIRMED': 2})\n",
    "\n",
    "\n",
    "# Drop the columns that are not required\n",
    "data = data.drop(columns=['koi_disposition','koi_pdisposition','koi_teq_err1','koi_teq_err2','koi_tce_delivname'])\n",
    "\n",
    "# Save the preprocessed data to pre_processed_data.csv\n",
    "data.to_csv(\"pre_processed_data.csv\", index=False)\n",
    "\n"
   ]
  },
  {
   "cell_type": "markdown",
   "metadata": {},
   "source": [
    "DATA CLEANING(DELETE THE ROWS WITH MISSING VALUES FOR ANY COLUMN STARTING FROM COLUMN D)"
   ]
  },
  {
   "cell_type": "code",
   "execution_count": 21,
   "metadata": {},
   "outputs": [],
   "source": [
    "import pandas as pd\n",
    "\n",
    "data = pd.read_csv(\"pre_processed_data.csv\")\n",
    "\n",
    "# Drop rows where any of the columns starting from the 4th column have missing values\n",
    "data = data.dropna(subset=data.columns[3:], how='any')\n",
    "\n",
    "data.to_csv(\"pre_processed_data.csv\", index=False)\n"
   ]
  },
  {
   "cell_type": "markdown",
   "metadata": {},
   "source": [
    "DATA NORMALIZATION"
   ]
  },
  {
   "cell_type": "code",
   "execution_count": 22,
   "metadata": {},
   "outputs": [],
   "source": [
    "import pandas as pd\n",
    "from sklearn.preprocessing import MinMaxScaler\n",
    "\n",
    "# Load the preprocessed data from pre_processed_data.csv\n",
    "data = pd.read_csv(\"pre_processed_data.csv\")\n",
    "\n",
    "# Extract the columns to be scaled (from 4th column to second last column)\n",
    "columns_to_scale = data.columns[3:-1]\n",
    "\n",
    "# Initialize the MinMaxScaler\n",
    "scaler = MinMaxScaler()\n",
    "\n",
    "# Fit and transform the selected columns using Min-Max scaling\n",
    "data[columns_to_scale] = scaler.fit_transform(data[columns_to_scale])\n",
    "\n",
    "# Save the scaled data back to pre_processed_data.csv\n",
    "data.to_csv(\"pre_processed_data.csv\", index=False)\n"
   ]
  },
  {
   "cell_type": "markdown",
   "metadata": {},
   "source": [
    "MODEL TRAINING(ANN)"
   ]
  },
  {
   "cell_type": "code",
   "execution_count": 26,
   "metadata": {},
   "outputs": [
    {
     "name": "stdout",
     "output_type": "stream",
     "text": [
      "Epoch 1/50\n",
      "25/25 [==============================] - 2s 13ms/step - loss: 0.5691 - accuracy: 0.7340 - val_loss: 0.4314 - val_accuracy: 0.7750\n",
      "Epoch 2/50\n",
      "25/25 [==============================] - 0s 5ms/step - loss: 0.4190 - accuracy: 0.7835 - val_loss: 0.4070 - val_accuracy: 0.8151\n",
      "Epoch 3/50\n",
      "25/25 [==============================] - 0s 5ms/step - loss: 0.3996 - accuracy: 0.7999 - val_loss: 0.3926 - val_accuracy: 0.8335\n",
      "Epoch 4/50\n",
      "25/25 [==============================] - 0s 5ms/step - loss: 0.3900 - accuracy: 0.8065 - val_loss: 0.3723 - val_accuracy: 0.8439\n",
      "Epoch 5/50\n",
      "25/25 [==============================] - 0s 5ms/step - loss: 0.3748 - accuracy: 0.8125 - val_loss: 0.3806 - val_accuracy: 0.8094\n",
      "Epoch 6/50\n",
      "25/25 [==============================] - 0s 5ms/step - loss: 0.3870 - accuracy: 0.7953 - val_loss: 0.3921 - val_accuracy: 0.8046\n",
      "Epoch 7/50\n",
      "25/25 [==============================] - 0s 5ms/step - loss: 0.3677 - accuracy: 0.8230 - val_loss: 0.3654 - val_accuracy: 0.8311\n",
      "Epoch 8/50\n",
      "25/25 [==============================] - 0s 5ms/step - loss: 0.3657 - accuracy: 0.8175 - val_loss: 0.3702 - val_accuracy: 0.8094\n",
      "Epoch 9/50\n",
      "25/25 [==============================] - 0s 6ms/step - loss: 0.3625 - accuracy: 0.8250 - val_loss: 0.3545 - val_accuracy: 0.8343\n",
      "Epoch 10/50\n",
      "25/25 [==============================] - 0s 6ms/step - loss: 0.3518 - accuracy: 0.8234 - val_loss: 0.3929 - val_accuracy: 0.7830\n",
      "Epoch 11/50\n",
      "25/25 [==============================] - 0s 6ms/step - loss: 0.3691 - accuracy: 0.8139 - val_loss: 0.3492 - val_accuracy: 0.8295\n",
      "Epoch 12/50\n",
      "25/25 [==============================] - 0s 6ms/step - loss: 0.3568 - accuracy: 0.8248 - val_loss: 0.3799 - val_accuracy: 0.8151\n",
      "Epoch 13/50\n",
      "25/25 [==============================] - 0s 6ms/step - loss: 0.3530 - accuracy: 0.8322 - val_loss: 0.3466 - val_accuracy: 0.8415\n",
      "Epoch 14/50\n",
      "25/25 [==============================] - 0s 6ms/step - loss: 0.3491 - accuracy: 0.8338 - val_loss: 0.3527 - val_accuracy: 0.8327\n",
      "Epoch 15/50\n",
      "25/25 [==============================] - 0s 6ms/step - loss: 0.3614 - accuracy: 0.8201 - val_loss: 0.3297 - val_accuracy: 0.8431\n",
      "Epoch 16/50\n",
      "25/25 [==============================] - 0s 6ms/step - loss: 0.3458 - accuracy: 0.8324 - val_loss: 0.3507 - val_accuracy: 0.8495\n",
      "Epoch 17/50\n",
      "25/25 [==============================] - 0s 6ms/step - loss: 0.3315 - accuracy: 0.8418 - val_loss: 0.3378 - val_accuracy: 0.8487\n",
      "Epoch 18/50\n",
      "25/25 [==============================] - 0s 6ms/step - loss: 0.3251 - accuracy: 0.8522 - val_loss: 0.3197 - val_accuracy: 0.8519\n",
      "Epoch 19/50\n",
      "25/25 [==============================] - 0s 6ms/step - loss: 0.3591 - accuracy: 0.8205 - val_loss: 0.3616 - val_accuracy: 0.8399\n",
      "Epoch 20/50\n",
      "25/25 [==============================] - 0s 6ms/step - loss: 0.3454 - accuracy: 0.8378 - val_loss: 0.3563 - val_accuracy: 0.8239\n",
      "Epoch 21/50\n",
      "25/25 [==============================] - 0s 9ms/step - loss: 0.3317 - accuracy: 0.8468 - val_loss: 0.3548 - val_accuracy: 0.8255\n",
      "Epoch 22/50\n",
      "25/25 [==============================] - 0s 6ms/step - loss: 0.3262 - accuracy: 0.8442 - val_loss: 0.3133 - val_accuracy: 0.8591\n",
      "Epoch 23/50\n",
      "25/25 [==============================] - 0s 5ms/step - loss: 0.3324 - accuracy: 0.8436 - val_loss: 0.3567 - val_accuracy: 0.8143\n",
      "Epoch 24/50\n",
      "25/25 [==============================] - 0s 5ms/step - loss: 0.3297 - accuracy: 0.8462 - val_loss: 0.3413 - val_accuracy: 0.8383\n",
      "Epoch 25/50\n",
      "25/25 [==============================] - 0s 5ms/step - loss: 0.3341 - accuracy: 0.8430 - val_loss: 0.3156 - val_accuracy: 0.8607\n",
      "Epoch 26/50\n",
      "25/25 [==============================] - 0s 6ms/step - loss: 0.3166 - accuracy: 0.8578 - val_loss: 0.3723 - val_accuracy: 0.8167\n",
      "Epoch 27/50\n",
      "25/25 [==============================] - 0s 6ms/step - loss: 0.3251 - accuracy: 0.8474 - val_loss: 0.3445 - val_accuracy: 0.8415\n",
      "Epoch 28/50\n",
      "25/25 [==============================] - 0s 6ms/step - loss: 0.3208 - accuracy: 0.8504 - val_loss: 0.3179 - val_accuracy: 0.8575\n",
      "Epoch 29/50\n",
      "25/25 [==============================] - 0s 6ms/step - loss: 0.3082 - accuracy: 0.8554 - val_loss: 0.3153 - val_accuracy: 0.8687\n",
      "Epoch 30/50\n",
      "25/25 [==============================] - 0s 5ms/step - loss: 0.3080 - accuracy: 0.8578 - val_loss: 0.3116 - val_accuracy: 0.8615\n",
      "Epoch 31/50\n",
      "25/25 [==============================] - 0s 5ms/step - loss: 0.3170 - accuracy: 0.8556 - val_loss: 0.4096 - val_accuracy: 0.7622\n",
      "Epoch 32/50\n",
      "25/25 [==============================] - 0s 5ms/step - loss: 0.3230 - accuracy: 0.8472 - val_loss: 0.3245 - val_accuracy: 0.8519\n",
      "Epoch 33/50\n",
      "25/25 [==============================] - 0s 6ms/step - loss: 0.2990 - accuracy: 0.8718 - val_loss: 0.3243 - val_accuracy: 0.8559\n",
      "Epoch 34/50\n",
      "25/25 [==============================] - 0s 6ms/step - loss: 0.3247 - accuracy: 0.8484 - val_loss: 0.3234 - val_accuracy: 0.8551\n",
      "Epoch 35/50\n",
      "25/25 [==============================] - 0s 6ms/step - loss: 0.3164 - accuracy: 0.8534 - val_loss: 0.3092 - val_accuracy: 0.8631\n",
      "Epoch 36/50\n",
      "25/25 [==============================] - 0s 6ms/step - loss: 0.3222 - accuracy: 0.8544 - val_loss: 0.3193 - val_accuracy: 0.8543\n",
      "Epoch 37/50\n",
      "25/25 [==============================] - 0s 5ms/step - loss: 0.3209 - accuracy: 0.8506 - val_loss: 0.3095 - val_accuracy: 0.8655\n",
      "Epoch 38/50\n",
      "25/25 [==============================] - 0s 5ms/step - loss: 0.2968 - accuracy: 0.8668 - val_loss: 0.3127 - val_accuracy: 0.8503\n",
      "Epoch 39/50\n",
      "25/25 [==============================] - 0s 5ms/step - loss: 0.2963 - accuracy: 0.8696 - val_loss: 0.3152 - val_accuracy: 0.8607\n",
      "Epoch 40/50\n",
      "25/25 [==============================] - 0s 6ms/step - loss: 0.3307 - accuracy: 0.8424 - val_loss: 0.3298 - val_accuracy: 0.8551\n",
      "Epoch 41/50\n",
      "25/25 [==============================] - 0s 6ms/step - loss: 0.3086 - accuracy: 0.8638 - val_loss: 0.3072 - val_accuracy: 0.8671\n",
      "Epoch 42/50\n",
      "25/25 [==============================] - 0s 5ms/step - loss: 0.2910 - accuracy: 0.8704 - val_loss: 0.3587 - val_accuracy: 0.8207\n",
      "Epoch 43/50\n",
      "25/25 [==============================] - 0s 5ms/step - loss: 0.3114 - accuracy: 0.8550 - val_loss: 0.3185 - val_accuracy: 0.8559\n",
      "Epoch 44/50\n",
      "25/25 [==============================] - 0s 6ms/step - loss: 0.3075 - accuracy: 0.8654 - val_loss: 0.3081 - val_accuracy: 0.8671\n",
      "Epoch 45/50\n",
      "25/25 [==============================] - 0s 6ms/step - loss: 0.3066 - accuracy: 0.8608 - val_loss: 0.3084 - val_accuracy: 0.8615\n",
      "Epoch 46/50\n",
      "25/25 [==============================] - 0s 6ms/step - loss: 0.2959 - accuracy: 0.8656 - val_loss: 0.3034 - val_accuracy: 0.8711\n",
      "Epoch 47/50\n",
      "25/25 [==============================] - 0s 6ms/step - loss: 0.3249 - accuracy: 0.8404 - val_loss: 0.3225 - val_accuracy: 0.8591\n",
      "Epoch 48/50\n",
      "25/25 [==============================] - 0s 7ms/step - loss: 0.2988 - accuracy: 0.8684 - val_loss: 0.3073 - val_accuracy: 0.8663\n",
      "Epoch 49/50\n",
      "25/25 [==============================] - 0s 5ms/step - loss: 0.3073 - accuracy: 0.8612 - val_loss: 0.3145 - val_accuracy: 0.8695\n",
      "Epoch 50/50\n",
      "25/25 [==============================] - 0s 5ms/step - loss: 0.2898 - accuracy: 0.8740 - val_loss: 0.3111 - val_accuracy: 0.8639\n",
      "49/49 [==============================] - 0s 2ms/step - loss: 0.2971 - accuracy: 0.8744\n",
      "Test Loss: 0.297065794467926, Test Accuracy: 0.8744394779205322\n"
     ]
    }
   ],
   "source": [
    "import pandas as pd\n",
    "import numpy as np\n",
    "from sklearn.model_selection import train_test_split\n",
    "from tensorflow.keras.models import Sequential\n",
    "from tensorflow.keras.layers import Dense\n",
    "from tensorflow.keras.optimizers import Adam\n",
    "\n",
    "\n",
    "# Load the preprocessed data from pre_processed_data.csv\n",
    "data = pd.read_csv(\"pre_processed_data.csv\")\n",
    "\n",
    "# Extract input features (X) and target variable (y)\n",
    "X = data.iloc[:, 3:-1].values\n",
    "y = data.iloc[:, -1].values\n",
    "\n",
    "# Split the data into training and testing sets\n",
    "X_train, X_test, y_train, y_test = train_test_split(X, y, test_size=0.2, random_state=42)\n",
    "\n",
    "# Define the ANN model\n",
    "model = Sequential([\n",
    "    Dense(45, activation='tanh', input_shape=(X_train.shape[1],)),\n",
    "    Dense(50, activation='tanh'),\n",
    "    Dense(50, activation='tanh'),\n",
    "    Dense(50, activation='tanh'),\n",
    "    Dense(50, activation='tanh'),\n",
    "    Dense(50, activation='tanh'),\n",
    "    Dense(3, activation='softmax')  # Output layer with 3 neurons for 3 classes and softmax activation\n",
    "])\n",
    "\n",
    "\n",
    "#choose optimizer and set learning rate\n",
    "optimizer=Adam(learning_rate=0.005)\n",
    "\n",
    "# Compile the model\n",
    "model.compile(optimizer, loss='sparse_categorical_crossentropy', metrics=['accuracy'])\n",
    "\n",
    "# Train the model\n",
    "model.fit(X_train, y_train, epochs=50, batch_size=200,validation_split=0.2)\n",
    "\n",
    "# Evaluate the model on test data\n",
    "loss, accuracy = model.evaluate(X_test, y_test)\n",
    "print(f'Test Loss: {loss}, Test Accuracy: {accuracy}')\n"
   ]
  },
  {
   "cell_type": "code",
   "execution_count": 27,
   "metadata": {},
   "outputs": [
    {
     "name": "stderr",
     "output_type": "stream",
     "text": [
      "C:\\Users\\VAIBHAV JHA\\AppData\\Roaming\\Python\\Python311\\site-packages\\keras\\src\\engine\\training.py:3079: UserWarning: You are saving your model as an HDF5 file via `model.save()`. This file format is considered legacy. We recommend using instead the native Keras format, e.g. `model.save('my_model.keras')`.\n",
      "  saving_api.save_model(\n"
     ]
    }
   ],
   "source": [
    "model.save('ANN.h5')"
   ]
  },
  {
   "cell_type": "markdown",
   "metadata": {},
   "source": [
    "EVALUATION MATRIX"
   ]
  },
  {
   "cell_type": "code",
   "execution_count": 28,
   "metadata": {},
   "outputs": [
    {
     "name": "stdout",
     "output_type": "stream",
     "text": [
      "49/49 [==============================] - 0s 2ms/step\n",
      "Precision: 0.8728552496096069\n",
      "Recall: 0.874439461883408\n",
      "F1 Score: 0.8735438578942885\n"
     ]
    },
    {
     "data": {
      "image/png": "[encoded data removed]",
      "text/plain": [
       "<Figure size 800x600 with 1 Axes>"
      ]
     },
     "metadata": {},
     "output_type": "display_data"
    }
   ],
   "source": [
    "from sklearn.metrics import confusion_matrix\n",
    "from sklearn.metrics import precision_score, recall_score, f1_score\n",
    "import seaborn as sns\n",
    "import matplotlib.pyplot as plt\n",
    "import numpy as np\n",
    "\n",
    "# Predict the classes for test data\n",
    "y_pred = np.argmax(model.predict(X_test), axis=1)\n",
    "precision = precision_score(y_test, y_pred,average='weighted')\n",
    "recall = recall_score(y_test, y_pred,average='weighted')\n",
    "f1 = f1_score(y_test, y_pred,average='weighted')\n",
    "\n",
    "# Print the precision, recall, and F1 score\n",
    "print(\"Precision:\", precision)\n",
    "print(\"Recall:\", recall)\n",
    "print(\"F1 Score:\", f1)\n",
    "# Compute confusion matrix\n",
    "conf_matrix = confusion_matrix(y_test, y_pred)\n",
    "\n",
    "# Plot confusion matrix\n",
    "plt.figure(figsize=(8, 6))\n",
    "sns.heatmap(conf_matrix, annot=True, fmt='d', cmap='Blues', cbar=False)\n",
    "plt.xlabel('Predicted Label')\n",
    "plt.ylabel('True Label')\n",
    "plt.title('Confusion Matrix')\n",
    "plt.show()\n"
   ]
  },
  {
   "cell_type": "markdown",
   "metadata": {},
   "source": [
    "Model Training(Random Forest Classifier)"
   ]
  },
  {
   "cell_type": "code",
   "execution_count": 29,
   "metadata": {},
   "outputs": [
    {
     "name": "stdout",
     "output_type": "stream",
     "text": [
      "Test Accuracy: 0.9071108263933376\n"
     ]
    }
   ],
   "source": [
    "import pandas as pd\n",
    "from sklearn.model_selection import train_test_split\n",
    "from sklearn.ensemble import RandomForestClassifier\n",
    "\n",
    "# Load the preprocessed data from pre_processed_data.csv\n",
    "data = pd.read_csv(\"pre_processed_data.csv\")\n",
    "\n",
    "# Extract input features (X) and target variable (y)\n",
    "X = data.iloc[:, 3:-1].values\n",
    "y = data.iloc[:, -1].values\n",
    "\n",
    "# Split the data into training and testing sets\n",
    "X_train, X_test, y_train, y_test = train_test_split(X, y, test_size=0.2, random_state=42)\n",
    "\n",
    "# Define the Random Forest classifier\n",
    "rf_model = RandomForestClassifier(n_estimators=100, \n",
    "                                   max_depth=None, \n",
    "                                   max_features=25, \n",
    "                                   bootstrap=True, \n",
    "                                   criterion='entropy', \n",
    "                                   random_state=42)\n",
    "\n",
    "# Train the Random Forest classifier\n",
    "rf_model.fit(X_train, y_train)\n",
    "\n",
    "# Evaluate the Random Forest classifier on test data\n",
    "accuracy = rf_model.score(X_test, y_test)\n",
    "print(f'Test Accuracy: {accuracy}')"
   ]
  },
  {
   "cell_type": "markdown",
   "metadata": {},
   "source": [
    "Saving Trained Model"
   ]
  },
  {
   "cell_type": "code",
   "execution_count": 18,
   "metadata": {},
   "outputs": [
    {
     "data": {
      "text/plain": [
       "['random_forest.pkl']"
      ]
     },
     "execution_count": 18,
     "metadata": {},
     "output_type": "execute_result"
    }
   ],
   "source": [
    "# Save the trained XGBoost model\n",
    "import joblib\n",
    "\n",
    "joblib.dump(rf_model, 'random_forest.pkl')\n"
   ]
  },
  {
   "cell_type": "markdown",
   "metadata": {},
   "source": [
    "EVALUATION MATRIX"
   ]
  },
  {
   "cell_type": "code",
   "execution_count": 19,
   "metadata": {},
   "outputs": [
    {
     "name": "stdout",
     "output_type": "stream",
     "text": [
      "Precision: 0.9078805497875184\n",
      "Recall: 0.9071108263933376\n",
      "F1 Score: 0.9061542215815838\n"
     ]
    },
    {
     "data": {
      "image/png": "[encoded data removed]",
      "text/plain": [
       "<Figure size 800x600 with 1 Axes>"
      ]
     },
     "metadata": {},
     "output_type": "display_data"
    }
   ],
   "source": [
    "from sklearn.metrics import confusion_matrix\n",
    "from sklearn.metrics import precision_score, recall_score, f1_score\n",
    "import seaborn as sns\n",
    "import matplotlib.pyplot as plt\n",
    "import numpy as np\n",
    "\n",
    "# Predict the classes for test data\n",
    "y_pred = rf_model.predict(X_test)\n",
    "precision = precision_score(y_test, y_pred,average='weighted')\n",
    "recall = recall_score(y_test, y_pred,average='weighted')\n",
    "f1 = f1_score(y_test, y_pred,average='weighted')\n",
    "\n",
    "# Print the precision, recall, and F1 score\n",
    "print(\"Precision:\", precision)\n",
    "print(\"Recall:\", recall)\n",
    "print(\"F1 Score:\", f1)\n",
    "# Compute confusion matrix\n",
    "conf_matrix = confusion_matrix(y_test, y_pred)\n",
    "\n",
    "# Plot confusion matrix\n",
    "plt.figure(figsize=(8, 6))\n",
    "sns.heatmap(conf_matrix, annot=True, fmt='d', cmap='Blues', cbar=False)\n",
    "plt.xlabel('Predicted Label')\n",
    "plt.ylabel('True Label')\n",
    "plt.title('Confusion Matrix')\n",
    "plt.show()\n"
   ]
  },
  {
   "cell_type": "markdown",
   "metadata": {},
   "source": [
    "Model Training(XG Boost)"
   ]
  },
  {
   "cell_type": "code",
   "execution_count": 21,
   "metadata": {},
   "outputs": [
    {
     "name": "stdout",
     "output_type": "stream",
     "text": [
      "Test Accuracy: 0.9141575912876362\n"
     ]
    }
   ],
   "source": [
    "import pandas as pd\n",
    "import numpy as np\n",
    "from sklearn.model_selection import train_test_split\n",
    "from xgboost import XGBClassifier\n",
    "from sklearn.metrics import accuracy_score\n",
    "\n",
    "# Load the preprocessed data from pre_processed_data.csv\n",
    "data = pd.read_csv(\"pre_processed_data.csv\")\n",
    "\n",
    "# Extract input features (X) and target variable (y)\n",
    "X = data.iloc[:, 3:-1].values\n",
    "y = data.iloc[:, -1].values\n",
    "\n",
    "# Split the data into training and testing sets\n",
    "X_train, X_test, y_train, y_test = train_test_split(X, y, test_size=0.2, random_state=42)\n",
    "\n",
    "# Define the XGBoost model\n",
    "model = XGBClassifier(learning_rate=0.01, n_estimators= 1000)\n",
    "\n",
    "# Train the model\n",
    "model.fit(X_train, y_train)\n",
    "\n",
    "# Predict on the test data\n",
    "y_pred = model.predict(X_test)\n",
    "\n",
    "# Calculate accuracy\n",
    "accuracy = accuracy_score(y_test, y_pred)\n",
    "print(f'Test Accuracy: {accuracy}')\n",
    "\n"
   ]
  },
  {
   "cell_type": "markdown",
   "metadata": {},
   "source": [
    "Saving Trained Model"
   ]
  },
  {
   "cell_type": "code",
   "execution_count": 22,
   "metadata": {},
   "outputs": [
    {
     "data": {
      "text/plain": [
       "['xg_boost.pkl']"
      ]
     },
     "execution_count": 22,
     "metadata": {},
     "output_type": "execute_result"
    }
   ],
   "source": [
    "# Save the trained XGBoost model\n",
    "import joblib\n",
    "\n",
    "joblib.dump(rf_model, 'xg_boost.pkl')"
   ]
  },
  {
   "cell_type": "markdown",
   "metadata": {},
   "source": [
    "EVALUATION MATRIX"
   ]
  },
  {
   "cell_type": "code",
   "execution_count": 23,
   "metadata": {},
   "outputs": [
    {
     "name": "stdout",
     "output_type": "stream",
     "text": [
      "Precision: 0.915051160697995\n",
      "Recall: 0.9141575912876362\n",
      "F1 Score: 0.9133007567746321\n"
     ]
    },
    {
     "data": {
      "image/png": "[encoded data removed]",
      "text/plain": [
       "<Figure size 800x600 with 1 Axes>"
      ]
     },
     "metadata": {},
     "output_type": "display_data"
    }
   ],
   "source": [
    "from sklearn.metrics import confusion_matrix\n",
    "from sklearn.metrics import precision_score, recall_score, f1_score\n",
    "import seaborn as sns\n",
    "import matplotlib.pyplot as plt\n",
    "import numpy as np\n",
    "\n",
    "# Predict the classes for test data\n",
    "y_pred = model.predict(X_test)\n",
    "precision = precision_score(y_test, y_pred,average='weighted')\n",
    "recall = recall_score(y_test, y_pred,average='weighted')\n",
    "f1 = f1_score(y_test, y_pred,average='weighted')\n",
    "\n",
    "# Print the precision, recall, and F1 score\n",
    "print(\"Precision:\", precision)\n",
    "print(\"Recall:\", recall)\n",
    "print(\"F1 Score:\", f1)\n",
    "# Compute confusion matrix\n",
    "conf_matrix = confusion_matrix(y_test, y_pred)\n",
    "\n",
    "# Plot confusion matrix\n",
    "plt.figure(figsize=(8, 6))\n",
    "sns.heatmap(conf_matrix, annot=True, fmt='d', cmap='Blues', cbar=False)\n",
    "plt.xlabel('Predicted Label')\n",
    "plt.ylabel('True Label')\n",
    "plt.title('Confusion Matrix')\n",
    "plt.show()"
   ]
  }
 ],
 "metadata": {
  "kernelspec": {
   "display_name": "Python 3",
   "language": "python",
   "name": "python3"
  },
  "language_info": {
   "codemirror_mode": {
    "name": "ipython",
    "version": 3
   },
   "file_extension": ".py",
   "mimetype": "text/x-python",
   "name": "python",
   "nbconvert_exporter": "python",
   "pygments_lexer": "ipython3",
   "version": "3.11.4"
  }
 },
 "nbformat": 4,
 "nbformat_minor": 2
}
